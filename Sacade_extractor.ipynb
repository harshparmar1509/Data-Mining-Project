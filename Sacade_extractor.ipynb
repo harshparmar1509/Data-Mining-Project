{
 "cells": [
  {
   "cell_type": "code",
   "execution_count": 1,
   "metadata": {},
   "outputs": [
    {
     "ename": "ModuleNotFoundError",
     "evalue": "No module named 'ipynb'",
     "output_type": "error",
     "traceback": [
      "\u001b[0;31m---------------------------------------------------------------------------\u001b[0m",
      "\u001b[0;31mModuleNotFoundError\u001b[0m                       Traceback (most recent call last)",
      "\u001b[0;32m<ipython-input-1-cd48e3c09d18>\u001b[0m in \u001b[0;36m<module>\u001b[0;34m\u001b[0m\n\u001b[0;32m----> 1\u001b[0;31m \u001b[0;32mfrom\u001b[0m \u001b[0mipynb\u001b[0m\u001b[0;34m.\u001b[0m\u001b[0mfs\u001b[0m\u001b[0;34m.\u001b[0m\u001b[0mfull\u001b[0m\u001b[0;34m.\u001b[0m\u001b[0mdata_reader\u001b[0m \u001b[0;32mimport\u001b[0m \u001b[0;34m*\u001b[0m\u001b[0;34m\u001b[0m\u001b[0;34m\u001b[0m\u001b[0m\n\u001b[0m\u001b[1;32m      2\u001b[0m \u001b[0;32mimport\u001b[0m \u001b[0mnumpy\u001b[0m \u001b[0;32mas\u001b[0m \u001b[0mnp\u001b[0m\u001b[0;34m\u001b[0m\u001b[0;34m\u001b[0m\u001b[0m\n\u001b[1;32m      3\u001b[0m \u001b[0;32mimport\u001b[0m \u001b[0mscipy\u001b[0m\u001b[0;34m.\u001b[0m\u001b[0mspatial\u001b[0m\u001b[0;34m.\u001b[0m\u001b[0mdistance\u001b[0m \u001b[0;32mas\u001b[0m \u001b[0mdistance\u001b[0m\u001b[0;34m\u001b[0m\u001b[0;34m\u001b[0m\u001b[0m\n",
      "\u001b[0;31mModuleNotFoundError\u001b[0m: No module named 'ipynb'"
     ]
    }
   ],
   "source": [
    "from ipynb.fs.full.data_reader import *\n",
    "import numpy as np\n",
    "import scipy.spatial.distance as distance"
   ]
  },
  {
   "cell_type": "code",
   "execution_count": 2,
   "metadata": {},
   "outputs": [],
   "source": [
    "interval_time = 8000\n",
    "start_threshold = 0.002\n",
    "end_threshold = 0.001"
   ]
  },
  {
   "cell_type": "code",
   "execution_count": 2,
   "metadata": {},
   "outputs": [],
   "source": [
    "def closestTime(coordMatrix, timestamp):\n",
    "    closeTime = 0\n",
    "    loca = ()\n",
    "    minim = 15000\n",
    "    for coord_matrix in coordMatrix:\n",
    "        if(abs(int(coord_matrix[0]) - timestamp) < minim):\n",
    "            minim = abs(int(coord_matrix[0]) - timestamp)\n",
    "            closeTime = int(coord_matrix[0])\n",
    "            loca = (int(float(coord_matrix[1])), int(float(coord_matrix[2])))\n",
    "    return closeTime, loca"
   ]
  },
  {
   "cell_type": "code",
   "execution_count": 4,
   "metadata": {},
   "outputs": [],
   "source": [
    "def intervals(filename):\n",
    "    name, coords = load_file(filename, 'test')\n",
    "    interval = []\n",
    "    start_time = int(coords[0][0])\n",
    "    #last = coords[-1][0]\n",
    "    while start_time < int(coords[-1][0])-1:\n",
    "        final_start_time, start_loc = closestTime(coords, start_time)\n",
    "        end_time = start_time + interval_time\n",
    "        final_end_time, end_loc = closestTime(coords, end_time)\n",
    "        if(final_end_time == final_start_time):\n",
    "            end_time = final_start_time + 10000\n",
    "            final_end_time, end_loc = closestTime(coords, end_time)\n",
    "        interval.append((start_loc, end_loc, int(final_end_time - final_start_time), final_start_time))\n",
    "        start_time = start_time + (interval_time/2)\n",
    "    inteval = np.array(interval, dtype=object)\n",
    "    return interval"
   ]
  },
  {
   "cell_type": "code",
   "execution_count": 6,
   "metadata": {},
   "outputs": [],
   "source": [
    "def velocities(interval):\n",
    "    velocity = []\n",
    "    for inter in interval:\n",
    "        if(len(inter) and inter[2] and len(inter[0]) and len(inter[1])):\n",
    "            #print(inter)\n",
    "            #if(inter[2] != 0):\n",
    "            dist = pow((pow(inter[0][0] - inter[1][0],2) + pow(inter[0][1] - inter[1][1],2)), 1/2)\n",
    "            vel = int(dist)/inter[2]\n",
    "            velocity.append(vel)\n",
    "    velocity = np.array(velocity)\n",
    "    return velocity"
   ]
  },
  {
   "cell_type": "code",
   "execution_count": 1,
   "metadata": {},
   "outputs": [],
   "source": [
    "def extract_saccades(velocity, interval):  #videopath\n",
    "    saccade = False\n",
    "    data = []\n",
    "    start_location = None\n",
    "    for i in range(0, len(velocity)-1):\n",
    "        acc = abs(velocity[i+1] - velocity[i])\n",
    "        if saccade == False:\n",
    "            if acc >= start_threshold:\n",
    "                saccade = True\n",
    "                start_location = interval[i][0]\n",
    "                timestamp = interval[i][3]\n",
    "        else:\n",
    "            if acc <= end_threshold:\n",
    "                saccade = False\n",
    "                label = interval[i][1]\n",
    "                data.append((start_location, label, timestamp)) #videopath\n",
    "                start_location = None\n",
    "    #return ((start_loc, label, timeframe))            \n",
    "    return data"
   ]
  },
  {
   "cell_type": "code",
   "execution_count": 12,
   "metadata": {},
   "outputs": [],
   "source": [
    "#interval1 = intervals('Git/Data/gaze/natural_movies_gaze/AAF_beach.coord')\n",
    "#vel = velocities(interval1)\n",
    "#data = extract_saccades(vel, interval1)\n",
    "#print(len(data))\n",
    "#print(len(vel))\n",
    "#print(data[0])"
   ]
  }
 ],
 "metadata": {
  "kernelspec": {
   "display_name": "Python 3",
   "language": "python",
   "name": "python3"
  },
  "language_info": {
   "codemirror_mode": {
    "name": "ipython",
    "version": 3
   },
   "file_extension": ".py",
   "mimetype": "text/x-python",
   "name": "python",
   "nbconvert_exporter": "python",
   "pygments_lexer": "ipython3",
   "version": "3.7.3"
  }
 },
 "nbformat": 4,
 "nbformat_minor": 4
}
