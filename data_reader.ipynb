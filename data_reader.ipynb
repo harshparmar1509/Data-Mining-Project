{
 "cells": [
  {
   "cell_type": "code",
   "execution_count": 4,
   "metadata": {},
   "outputs": [],
   "source": [
    "import numpy as np"
   ]
  },
  {
   "cell_type": "code",
   "execution_count": 5,
   "metadata": {},
   "outputs": [],
   "source": [
    "def data_into_lists(filename):\n",
    "    DataList = []\n",
    "    with open(filename, 'r') as file:\n",
    "        for data in file:\n",
    "            data = data.rstrip('\\n')\n",
    "            dataEntry = data.split(' ')\n",
    "            #print(dataEntry)\n",
    "            if dataEntry[0][0] != '#' and len(dataEntry) == 4 and float(dataEntry[3]) == 1:\n",
    "                lists = []\n",
    "                for x in range(0,3):\n",
    "                    lists.append(dataEntry[x])\n",
    "                DataList.append(lists)\n",
    "    return DataList"
   ]
  },
  {
   "cell_type": "code",
   "execution_count": 6,
   "metadata": {},
   "outputs": [],
   "source": [
    "#coords = data_into_lists('Git/Data/gaze/natural_movies_gaze/AAF_beach.coord') \n",
    "#coord_matrix = np.array(coords)\n",
    "#coords[0]\n",
    "def load_file(filename, data_name):\n",
    "    coords = data_into_lists(filename)\n",
    "    coord_matrix = np.array(coords)\n",
    "    #returns a numpy array of [timestamp, x_loc, y_loc] using coord files \n",
    "    return data_name, coord_matrix"
   ]
  },
  {
   "cell_type": "code",
   "execution_count": null,
   "metadata": {},
   "outputs": [],
   "source": []
  }
 ],
 "metadata": {
  "kernelspec": {
   "display_name": "Python 3",
   "language": "python",
   "name": "python3"
  },
  "language_info": {
   "codemirror_mode": {
    "name": "ipython",
    "version": 3
   },
   "file_extension": ".py",
   "mimetype": "text/x-python",
   "name": "python",
   "nbconvert_exporter": "python",
   "pygments_lexer": "ipython3",
   "version": "3.7.3"
  }
 },
 "nbformat": 4,
 "nbformat_minor": 4
}
